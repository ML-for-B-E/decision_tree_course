{
 "cells": [
  {
   "cell_type": "code",
   "execution_count": null,
   "id": "acaef863",
   "metadata": {},
   "outputs": [],
   "source": [
    "from pathlib import Path\n",
    "\n",
    "from cloud_io.gcp.base import get_bucket, get_client\n",
    "from cloud_io.gcp.io import list_remote_files, download_file\n",
    "\n",
    "from summer.tools.common_path import ROOT_PATH\n",
    "\n",
    "%load_ext autoreload\n",
    "%autoreload 2"
   ]
  },
  {
   "cell_type": "code",
   "execution_count": null,
   "id": "bbb3e96e",
   "metadata": {},
   "outputs": [],
   "source": [
    "BUCKET_NAME = \"decision_tree_course\""
   ]
  },
  {
   "cell_type": "markdown",
   "id": "9db838a1",
   "metadata": {},
   "source": [
    "## List buckets"
   ]
  },
  {
   "cell_type": "code",
   "execution_count": null,
   "id": "e3cef0ee",
   "metadata": {},
   "outputs": [],
   "source": [
    "CLIENT = get_client() \n",
    "buckets = [bucket.name for bucket in CLIENT.list_buckets()]\n",
    "\n",
    "assert BUCKET_NAME in buckets"
   ]
  },
  {
   "cell_type": "markdown",
   "id": "007d9cf4",
   "metadata": {},
   "source": [
    "## List blobs"
   ]
  },
  {
   "cell_type": "code",
   "execution_count": null,
   "id": "42f02934",
   "metadata": {},
   "outputs": [],
   "source": [
    "blobs = list_remote_files(BUCKET_NAME, prefix=\"data\")\n",
    "blob_name = \"data/vegetation.csv\"\n",
    "blob_path = Path(blob_name)\n",
    "assert blob_path in blobs"
   ]
  },
  {
   "cell_type": "markdown",
   "id": "2423d97a",
   "metadata": {},
   "source": [
    "## Prepare directory"
   ]
  },
  {
   "cell_type": "code",
   "execution_count": null,
   "id": "ba79d960",
   "metadata": {},
   "outputs": [],
   "source": [
    "# Local folder\n",
    "download_path = Path(ROOT_PATH, blob_name)\n",
    "\n",
    "# Download\n",
    "\n",
    "download_path.unlink(missing_ok=True)\n",
    "assert not download_path.exists()"
   ]
  },
  {
   "cell_type": "markdown",
   "id": "358b163a",
   "metadata": {},
   "source": [
    "## Download file"
   ]
  },
  {
   "cell_type": "code",
   "execution_count": null,
   "id": "268c09db",
   "metadata": {},
   "outputs": [],
   "source": [
    "DOWNLOAD_KWARGS = dict(\n",
    "    bucket_as_local=ROOT_PATH,\n",
    "    bucket_name=BUCKET_NAME,\n",
    ")\n",
    "download_path_out = download_file(download_path, **DOWNLOAD_KWARGS)"
   ]
  },
  {
   "cell_type": "code",
   "execution_count": null,
   "id": "08445d73",
   "metadata": {},
   "outputs": [],
   "source": []
  }
 ],
 "metadata": {
  "kernelspec": {
   "display_name": "Python 3 (ipykernel)",
   "language": "python",
   "name": "python3"
  },
  "language_info": {
   "codemirror_mode": {
    "name": "ipython",
    "version": 3
   },
   "file_extension": ".py",
   "mimetype": "text/x-python",
   "name": "python",
   "nbconvert_exporter": "python",
   "pygments_lexer": "ipython3",
   "version": "3.9.13"
  }
 },
 "nbformat": 4,
 "nbformat_minor": 5
}
