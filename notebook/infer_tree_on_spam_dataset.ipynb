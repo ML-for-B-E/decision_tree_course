{
 "cells": [
  {
   "cell_type": "markdown",
   "id": "c034a1f8",
   "metadata": {},
   "source": [
    "\n",
    "| ID  |MOTS SUSPECTS | EXPEDITEUR INCONNU | CONTIENT DES IMAGES | CATEGORIE |\n",
    "|-----|-------|--------|--------|----------|\n",
    "| 376 | Vrai  | Faux  | Vrai   | spam     |\n",
    "| 489 | Vrai  | Vrai   | Faux  | spam     |\n",
    "| 541 | Vrai  | Vrai   | Faux  | spam     |\n",
    "| 693 | Faux | Vrai   | Vrai   | normal   |\n",
    "| 782 | Faux | Faux  | Faux  | normal   |\n",
    "| 976 | Faux | Faux  | Faux  | normal   |"
   ]
  },
  {
   "cell_type": "markdown",
   "id": "d7c0b9b9",
   "metadata": {},
   "source": [
    " ## Itération 1"
   ]
  },
  {
   "cell_type": "markdown",
   "id": "55071c7c",
   "metadata": {},
   "source": [
    "* 1. Calculer l'entropie de l'ensemble de données original par rapport à la caractéristique cible. Cela nous donne une mesure de la quantité d'information nécessaire pour organiser l'ensemble de données en ensembles purs. Comme ici: \n",
    "    * $t = CATEGORIE$ \n",
    "    * $levels(t) = \\{spam, normal\\}$\n",
    "    * $\\mathcal{D}$ = la population, ici l'ensemble des 6 lignes du tableau\n",
    "\\begin{align*}\n",
    "H(CATEGORIE, \\mathcal{D})  &= -\\sum_{l \\in levels(t)} P(t=i) * log_{s}(P(t=i)) \\\\\n",
    "&= -P(CATEGORIE= spam) * log_{2}(P(CATEGORIE= spam)) \\\\\n",
    "&-P(CATEGORIE= normal) * log_{2}(P(CATEGORIE= normal)) \\\\\n",
    "&= -3/6 * log_{2}(3/6) -3/6 * log_{2}(3/6) \\\\\n",
    "&= 1 bit \\\\\n",
    "\\end{align*}"
   ]
  },
  {
   "cell_type": "markdown",
   "id": "8da9445e",
   "metadata": {},
   "source": [
    "* 2. Pour chaque caractéristique descriptive, ici:\n",
    "  * MOTS SUSPECTS\n",
    "  * EXPEDITEUR INCONNU\n",
    "  * CONTIENT DES IMAGES\n",
    "\n",
    "Créez les ensembles qui résultent de la partition des instances de l'ensemble de données en utilisant leurs caractéristiques. Par exemple, pour MOTS SUSPECTS on obtient 2 partitions:\n",
    "\n",
    "  * $\\mathcal{D}_{MOTS\\ SUSPECTS=Vrai}$\n",
    "\n",
    "| ID  |MOTS SUSPECTS | EXPEDITEUR INCONNU | CONTIENT DES IMAGES | CATEGORIE |\n",
    "|-----|-------|--------|--------|----------|\n",
    "| 376 | Vrai  | Faux  | Vrai   | spam     |\n",
    "| 489 | Vrai  | Vrai   | Faux  | spam     |\n",
    "| 541 | Vrai  | Vrai   | Faux  | spam     |\n",
    "\n",
    "Dont l'entropie est \n",
    "\\begin{align*}\n",
    "H(CATEGORIE, \\mathcal{D}_{MOTS\\ SUSPECTS=Vrai}) &= -3/3 * log_{2}(3/3) \\\\\n",
    "&= 0 bit \\\\\n",
    "\\end{align*}\n",
    "\n",
    "et la taille $\\mathcal{D}_{MOTS\\ SUSPECTS=Vrai} = 3$\n",
    "\n",
    "  * $\\mathcal{D}_{MOTS\\ SUSPECTS=Faux}$\n",
    "\n",
    "| ID  |MOTS SUSPECTS | EXPEDITEUR INCONNU | CONTIENT DES IMAGES | CATEGORIE |\n",
    "|-----|-------|--------|--------|----------|\n",
    "| 693 | Faux | Vrai   | Vrai   | normal   |\n",
    "| 782 | Faux | Faux  | Faux  | normal   |\n",
    "| 976 | Faux | Faux  | Faux  | normal   |\n",
    "\n",
    "\n",
    "Dont l'entropie est \n",
    "\\begin{align*}\n",
    "H(CATEGORIE, \\mathcal{D}_{MOTS\\ SUSPECTS=Faux}) &= -3/3 * log_{2}(3/3) \\\\\n",
    "&= 0 bit \\\\\n",
    "\\end{align*}\n",
    "\n",
    "et la taille $\\mathcal{D}_{MOTS\\ SUSPECTS=Faux} = 3$\n",
    "\n",
    "Puis additionnez les scores d'entropie de chacun de ces ensembles. Cela donne une mesure de l'information qui\n",
    "nécessaires pour organiser les instances en ensembles purs après les avoir divisées à l'aide de la caractéristique descriptive.\n",
    "\\begin{align*}\n",
    "rem(d, \\mathcal{D}) &= \\sum_{l \\in levels(t)} \\frac{|\\mathcal{D}_{d=l}|}{|\\mathcal{D}|} * H(t, \\mathcal{D}_{d=l}) \\\\\n",
    "\\end{align*}\n",
    "\n",
    "Ici ça donne :\n",
    "\\begin{align*}\n",
    "rem(MOTS\\ SUSPECTS, \\mathcal{D}) &= \\frac{|\\mathcal{D}_{MOTS\\ SUSPECTS=Vrai}|}{|\\mathcal{D}|} * H(CATEGORIE, \\mathcal{D}_{MOTS\\ SUSPECTS=Vrai}) \\\\\n",
    "&+ \\frac{|\\mathcal{D}_{MOTS\\ SUSPECTS=Faux}|}{|\\mathcal{D}|} * H(CATEGORIE, \\mathcal{D}_{MOTS\\ SUSPECTS=Faux})\\\\\n",
    " &= 3/6 * 0 + 3/6 * 0 \\\\\n",
    " &= 0 bit \\\\\n",
    "\\end{align*}"
   ]
  },
  {
   "cell_type": "markdown",
   "id": "4d945e88",
   "metadata": {},
   "source": [
    "* 3. Soustraire la valeur d'entropie restante (calculée à l'étape 2) de la valeur d'entropie\n",
    "d'origine (calculée à l'étape 1) pour obtenir le gain d'information.\n",
    "\\begin{align*}\n",
    "IG(d, \\mathcal{D})  &= H(t, \\mathcal{D}) - rem(d, \\mathcal{D}) \n",
    "\\end{align*}\n",
    "\n",
    "Ici\n",
    "\\begin{align*}\n",
    "IG(MOTS\\ SUSPECTS, \\mathcal{D})  &= H(CATEGORIE, \\mathcal{D}) - rem(MOTS\\ SUSPECTS, \\mathcal{D}) \\\\\n",
    "&= 1 - 0\\\\\n",
    "&= 1 bit\\\\\n",
    "\\end{align*}"
   ]
  },
  {
   "cell_type": "markdown",
   "id": "f324953b",
   "metadata": {},
   "source": [
    "Il reste à calculer pour les variables descriptives:\n",
    "* EXPEDITEUR INCONNU\n",
    "\\begin{align*}\n",
    "IG(EXPEDITEUR\\ INCONNU, \\mathcal{D})  &= H(CATEGORIE, \\mathcal{D}) - rem(EXPEDITEUR\\ INCONNU, \\mathcal{D}) \\\\\n",
    "&= 1 - 0.9183\\\\\n",
    "&= 0.0817 bits\\\\\n",
    "\\end{align*}\n",
    "* CONTIENT DES IMAGES\n",
    "\\begin{align*}\n",
    "IG(CONTIENT\\ DES\\ IMAGES, \\mathcal{D})  &= H(CATEGORIE, \\mathcal{D}) - rem(CONTIENT\\ DES\\ IMAGES, \\mathcal{D}) \\\\\n",
    "&= 1 - 1\\\\\n",
    "&= 0 bit\\\\\n",
    "\\end{align*}\n",
    "\n",
    "Comme\n",
    "$$IG(MOTS\\ SUSPECTS, \\mathcal{D}) > IG(EXPEDITEUR\\ INCONNU, \\mathcal{D}) > IG(CONTIENT\\ DES\\ IMAGES, \\mathcal{D}) $$\n",
    "\n",
    "`MOTS SUSPECTS` est sélectionnée comme premier noeud de l'arbre à savoir la racine."
   ]
  },
  {
   "cell_type": "markdown",
   "id": "6a58d2d8",
   "metadata": {},
   "source": [
    "## Itération 2"
   ]
  },
  {
   "cell_type": "markdown",
   "id": "78150cce",
   "metadata": {},
   "source": [
    "..."
   ]
  },
  {
   "cell_type": "markdown",
   "id": "410d3f6d",
   "metadata": {},
   "source": [
    "---\n",
    "# Fin\n",
    "---"
   ]
  }
 ],
 "metadata": {
  "kernelspec": {
   "display_name": "Python 3",
   "language": "python",
   "name": "python3"
  },
  "language_info": {
   "codemirror_mode": {
    "name": "ipython",
    "version": 3
   },
   "file_extension": ".py",
   "mimetype": "text/x-python",
   "name": "python",
   "nbconvert_exporter": "python",
   "pygments_lexer": "ipython3",
   "version": "3.8.5"
  }
 },
 "nbformat": 4,
 "nbformat_minor": 5
}
